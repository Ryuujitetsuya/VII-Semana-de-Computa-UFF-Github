{
 "cells": [
  {
   "cell_type": "markdown",
   "metadata": {},
   "source": [
    "Implemente uma agenda de contatos em Python que pode ser feito em grupo de 2 a 5 pessoas para praticar o versionamento de código em equipe.\n",
    "\n",
    "Crie um repositório Git para o projeto e divida as tarefas entre os membros da equipe. Teste prático de como clonar o repositório, criar ramificações, realizar commits e mesclar as alterações. Também é importante definir um fluxo de trabalho claro, como quem será responsável por quais partes do código.\n",
    "\n",
    "Implementem uma agenda básica com as funcionalidade:\n",
    "\n",
    "- >>>>>Adicionar contatos.\n",
    "- Listar contatos.\n",
    "- Buscar contatos.\n",
    "- Deletar contatos.\n",
    "- Menu iterativo das opções anteriores."
   ]
  },
  {
   "cell_type": "code",
   "execution_count": 12,
   "metadata": {},
   "outputs": [
    {
     "name": "stdout",
     "output_type": "stream",
     "text": [
      "################################\n",
      "# Welcome to your SCHEDULE!!!: #\n",
      "################################\n",
      "\n",
      "#1 - Add\n",
      "#2 - Search\n",
      "#3 - Delete\n",
      "#4 - List\n",
      "\n",
      "#=#=ITENS DA AGENDA=#=#\n",
      "- Ricardo: 3234435\n",
      "- Camilly: 3896578\n",
      "- Douglas: 21290\n"
     ]
    }
   ],
   "source": [
    "### codes area Def ###\n",
    "\n",
    "def adicionar(nome, number):\n",
    "    global agenda\n",
    "    agenda[nome] = agenda.get(nome, []) + [number]  \n",
    "\n",
    "def listing(listi):\n",
    "    print(\"#=#=ITENS DA AGENDA=#=#\")\n",
    "\n",
    "    for chave, item in agenda.items():\n",
    "        if isinstance(item, list):\n",
    "            item_str = ' '.join(item) #transforming the var item in STR\n",
    "            print(f\"- {chave}: {item_str}\")\n",
    "        else:\n",
    "            print(f\"- {chave}: {item}\")\n",
    "\n",
    "#######################################################\n",
    "### area menu ###\n",
    "print(\"################################\")\n",
    "print(\"# Welcome to your SCHEDULE!!!: #\")   \n",
    "print(\"################################\")   \n",
    "print(\"\")\n",
    "print(\"\"\"#1 - Add\\n#2 - Search\\n#3 - Delete\\n#4 - List\\n\"\"\")\n",
    "\n",
    "var = 0\n",
    "agenda = {}\n",
    "### code in repetitio n###\n",
    "while var != \"EXIT\":\n",
    "    var = input(\"Whats option: \").upper()\n",
    "### code for add ###\n",
    "    if var == \"ADD\":\n",
    "        name, number = map(str, input(\"Whats is nome and number:  \").split())\n",
    "        adicionar(name,number)\n",
    "### code for listing ###\n",
    "    elif var == \"LIST\":\n",
    "        listing(agenda)\n"
   ]
  },
  {
   "cell_type": "code",
   "execution_count": 7,
   "metadata": {},
   "outputs": [
    {
     "name": "stdout",
     "output_type": "stream",
     "text": [
      "roupa: sapato\n",
      "camisa: azul\n"
     ]
    }
   ],
   "source": [
    "lista = {\"roupa\":\"sapato\", \"camisa\":\"azul\"}\n",
    "\n",
    "def dicionario(listi):\n",
    "    for chave, item in lista.items():\n",
    "        print(f\"{chave}: {item}\")\n",
    "\n",
    "var = input(\"diga: \")\n",
    "if var == \"listi\":\n",
    "    dicionario(var)\n",
    "\n"
   ]
  }
 ],
 "metadata": {
  "kernelspec": {
   "display_name": "Python 3",
   "language": "python",
   "name": "python3"
  },
  "language_info": {
   "codemirror_mode": {
    "name": "ipython",
    "version": 3
   },
   "file_extension": ".py",
   "mimetype": "text/x-python",
   "name": "python",
   "nbconvert_exporter": "python",
   "pygments_lexer": "ipython3",
   "version": "3.11.3"
  }
 },
 "nbformat": 4,
 "nbformat_minor": 2
}
