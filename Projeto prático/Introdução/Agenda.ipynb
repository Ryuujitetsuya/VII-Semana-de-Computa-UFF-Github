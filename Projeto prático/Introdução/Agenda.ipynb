{
 "cells": [
  {
   "cell_type": "markdown",
   "metadata": {},
   "source": [
    "Implemente uma agenda de contatos em Python que pode ser feito em grupo de 2 a 5 pessoas para praticar o versionamento de código em equipe.\n",
    "\n",
    "Crie um repositório Git para o projeto e divida as tarefas entre os membros da equipe. Teste prático de como clonar o repositório, criar ramificações, realizar commits e mesclar as alterações. Também é importante definir um fluxo de trabalho claro, como quem será responsável por quais partes do código.\n",
    "\n",
    "Implementem uma agenda básica com as funcionalidade:\n",
    "\n",
    "- Adicionar contatos.\n",
    "- Listar contatos.\n",
    "- Buscar contatos.\n",
    "- Deletar contatos.\n",
    "- Menu iterativo das opções anteriores."
   ]
  },
  {
   "cell_type": "code",
   "execution_count": 20,
   "metadata": {},
   "outputs": [
    {
     "name": "stdout",
     "output_type": "stream",
     "text": [
      "##################\n",
      "# O Que Desejas: #\n",
      "##################\n",
      "\n",
      "#1 - Adicionar\n",
      "#2 - Buscar\n",
      "#3 - Deletar\n",
      "#4 - Listar\n",
      "\n",
      "1 -  21999468262\n",
      "1 -  21999468262\n",
      "[21999468262]\n"
     ]
    }
   ],
   "source": [
    "print(\"##################\")\n",
    "print(\"# O Que Desejas: #\")   \n",
    "print(\"##################\")   \n",
    "print(\"\")\n",
    "print(\"\"\"#1 - Adicionar\\n#2 - Buscar\\n#3 - Deletar\\n#4 - Listar\\n\"\"\")\n",
    "\n",
    "var = 0\n",
    "lista = []\n",
    "\n",
    "while var != \"exit\":\n",
    "    var = str(input(\": \"))\n",
    "\n",
    "    if var == \"1\":\n",
    "        contato = int(input(\"Digite o Contato: \"))\n",
    "        lista.append(contato)\n",
    "    elif var == \"4\":\n",
    "        contador = 0\n",
    "        for i in range(len(lista)):\n",
    "            contador += 1\n",
    "            print(f\"{contador} - \",lista[i])\n",
    "\n",
    "print(lista)"
   ]
  }
 ],
 "metadata": {
  "kernelspec": {
   "display_name": "Python 3",
   "language": "python",
   "name": "python3"
  },
  "language_info": {
   "codemirror_mode": {
    "name": "ipython",
    "version": 3
   },
   "file_extension": ".py",
   "mimetype": "text/x-python",
   "name": "python",
   "nbconvert_exporter": "python",
   "pygments_lexer": "ipython3",
   "version": "3.11.3"
  }
 },
 "nbformat": 4,
 "nbformat_minor": 2
}
