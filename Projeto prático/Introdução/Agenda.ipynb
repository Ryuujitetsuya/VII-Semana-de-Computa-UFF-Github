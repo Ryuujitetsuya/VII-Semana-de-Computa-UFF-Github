{
 "cells": [
  {
   "cell_type": "markdown",
   "metadata": {},
   "source": [
    "Implemente uma agenda de contatos em Python que pode ser feito em grupo de 2 a 5 pessoas para praticar o versionamento de código em equipe.\n",
    "\n",
    "Crie um repositório Git para o projeto e divida as tarefas entre os membros da equipe. Teste prático de como clonar o repositório, criar ramificações, realizar commits e mesclar as alterações. Também é importante definir um fluxo de trabalho claro, como quem será responsável por quais partes do código.\n",
    "\n",
    "Implementem uma agenda básica com as funcionalidade:\n",
    "\n",
    "- Adicionar contatos.\n",
    "- Listar contatos.\n",
    "- Buscar contatos.\n",
    "- Deletar contatos.\n",
    "- Menu iterativo das opções anteriores."
   ]
  },
  {
   "cell_type": "code",
   "execution_count": null,
   "metadata": {},
   "outputs": [],
   "source": [
    "# codes area Def\n",
    "\n",
    "def adicionar(nome, number):\n",
    "    global lista\n",
    "    lista[nome] = lista.get(nome, []) + [number]  \n",
    "    print(f\"Dicionario-Update: {lista}\")\n",
    "\n",
    "#######################################################\n",
    "\n",
    "print(\"################################\")\n",
    "print(\"# Welcome to your SCHEDULE!!!: #\")   \n",
    "print(\"################################\")   \n",
    "print(\"\")\n",
    "print(\"\"\"#1 - Add\\n#2 - Search\\n#3 - Delete\\n#4 - List\\n\"\"\")\n",
    "\n",
    "var = 0\n",
    "lista = {}\n",
    "\n",
    "while var != \"EXIT\":\n",
    "    var = input(\"Whats option: \").upper()\n",
    "    if var == \"ADD\":\n",
    "        name, number = map(str, input(\"Whats is nome and number:  \").split())\n",
    "        adicionar(name,number)\n"
   ]
  },
  {
   "cell_type": "code",
   "execution_count": 18,
   "metadata": {},
   "outputs": [],
   "source": [
    "lista = {}\n",
    "\n",
    "def adicionar(nome, numero):\n",
    "    global lista\n",
    "    lista[nome] = lista.get(nome, []) + [numero]  \n",
    "    print(f\"Dicionario-Update: {lista}\")\n",
    "\n",
    "var = 0\n",
    "while var != \"x\":\n",
    "\n",
    "    var = input(\"Deserja continuar: \")\n",
    "    nome, numero = map(str, input(\"digas: \").split())\n",
    "    adicionar(nome, numero)\n",
    "\n",
    "    print(lista)\n"
   ]
  }
 ],
 "metadata": {
  "kernelspec": {
   "display_name": "Python 3",
   "language": "python",
   "name": "python3"
  },
  "language_info": {
   "codemirror_mode": {
    "name": "ipython",
    "version": 3
   },
   "file_extension": ".py",
   "mimetype": "text/x-python",
   "name": "python",
   "nbconvert_exporter": "python",
   "pygments_lexer": "ipython3",
   "version": "3.11.3"
  }
 },
 "nbformat": 4,
 "nbformat_minor": 2
}
